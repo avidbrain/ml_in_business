{
 "cells": [
  {
   "cell_type": "markdown",
   "id": "00869de6",
   "metadata": {},
   "source": [
    "# Проверка серверного API"
   ]
  },
  {
   "cell_type": "code",
   "execution_count": 1,
   "id": "2c755361",
   "metadata": {},
   "outputs": [],
   "source": [
    "import dill\n",
    "import urllib.request\n",
    "import json\n",
    "import numpy as np\n",
    "import pandas as pd\n",
    "from sklearn.metrics import classification_report"
   ]
  },
  {
   "cell_type": "markdown",
   "id": "0012a106",
   "metadata": {},
   "source": [
    "## Исходные данные для тестирования"
   ]
  },
  {
   "cell_type": "code",
   "execution_count": 2,
   "id": "67bb2ae3",
   "metadata": {},
   "outputs": [],
   "source": [
    "X_test = pd.read_pickle('data/X_test.pkl.zip')\n",
    "y_test = pd.read_pickle('data/y_test.pkl.zip')"
   ]
  },
  {
   "cell_type": "markdown",
   "id": "b583144b",
   "metadata": {},
   "source": [
    "## Проверка работоспособности"
   ]
  },
  {
   "cell_type": "code",
   "execution_count": 3,
   "id": "a619a364",
   "metadata": {},
   "outputs": [],
   "source": [
    "# Запрос на базе данных первых двух клиентов тестового датасета\n",
    "first2 = X_test.index.unique()[:2]\n",
    "request_json = X_test.loc[first2].reset_index().to_dict('list')"
   ]
  },
  {
   "cell_type": "code",
   "execution_count": 4,
   "id": "f6558b94",
   "metadata": {},
   "outputs": [],
   "source": [
    "def get_response(request_json):    \n",
    "    myurl = \"http://127.0.0.1:8180/predict\"\n",
    "    req = urllib.request.Request(myurl)\n",
    "    req.add_header('Content-Type', 'application/json; charset=utf-8')\n",
    "    jsondata = json.dumps(request_json)\n",
    "    jsondataasbytes = jsondata.encode('utf-8')   # needs to be bytes\n",
    "    req.add_header('Content-Length', len(jsondataasbytes))\n",
    "    response = urllib.request.urlopen(req, jsondataasbytes)\n",
    "    return json.loads(response.read())"
   ]
  },
  {
   "cell_type": "code",
   "execution_count": 5,
   "id": "b7c71a8c",
   "metadata": {},
   "outputs": [
    {
     "data": {
      "text/plain": [
       "{'predictions': [1, 1], 'success': True}"
      ]
     },
     "execution_count": 5,
     "metadata": {},
     "output_type": "execute_result"
    }
   ],
   "source": [
    "get_response(request_json)"
   ]
  },
  {
   "cell_type": "markdown",
   "id": "a30fda82",
   "metadata": {},
   "source": [
    "## Prediction"
   ]
  },
  {
   "cell_type": "code",
   "execution_count": 6,
   "id": "1d9a54d3",
   "metadata": {},
   "outputs": [],
   "source": [
    "# Запрос на базе данных части клиентов тестового датасета\n",
    "clients = X_test.index.unique()[:200]\n",
    "request_json = X_test.loc[clients].reset_index().to_dict('list')"
   ]
  },
  {
   "cell_type": "code",
   "execution_count": 7,
   "id": "bfde8111",
   "metadata": {},
   "outputs": [
    {
     "name": "stdout",
     "output_type": "stream",
     "text": [
      "              precision    recall  f1-score   support\n",
      "\n",
      "           0       0.54      0.49      0.51        41\n",
      "           1       0.71      0.77      0.74        70\n",
      "           2       0.64      0.89      0.74        18\n",
      "           3       0.58      0.51      0.54        71\n",
      "\n",
      "    accuracy                           0.63       200\n",
      "   macro avg       0.62      0.66      0.63       200\n",
      "weighted avg       0.62      0.63      0.62       200\n",
      "\n",
      "CPU times: user 625 ms, sys: 12.8 ms, total: 638 ms\n",
      "Wall time: 1.09 s\n"
     ]
    }
   ],
   "source": [
    "%%time\n",
    "request_json = X_test.loc[clients].reset_index().to_dict('list')\n",
    "y_pred = get_response(request_json)['predictions']\n",
    "print(classification_report(y_test.loc[clients], y_pred))"
   ]
  },
  {
   "cell_type": "code",
   "execution_count": null,
   "id": "d51976c3",
   "metadata": {},
   "outputs": [],
   "source": []
  }
 ],
 "metadata": {
  "kernelspec": {
   "display_name": "Python 3",
   "language": "python",
   "name": "python3"
  },
  "language_info": {
   "codemirror_mode": {
    "name": "ipython",
    "version": 3
   },
   "file_extension": ".py",
   "mimetype": "text/x-python",
   "name": "python",
   "nbconvert_exporter": "python",
   "pygments_lexer": "ipython3",
   "version": "3.8.11"
  }
 },
 "nbformat": 4,
 "nbformat_minor": 5
}

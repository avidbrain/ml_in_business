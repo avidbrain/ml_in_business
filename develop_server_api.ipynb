{
 "cells": [
  {
   "cell_type": "markdown",
   "id": "00869de6",
   "metadata": {},
   "source": [
    "# Функции серверного API"
   ]
  },
  {
   "cell_type": "code",
   "execution_count": 1,
   "id": "7073dc7e",
   "metadata": {},
   "outputs": [],
   "source": [
    "import dill\n",
    "import json\n",
    "import numpy as np\n",
    "import pandas as pd"
   ]
  },
  {
   "cell_type": "markdown",
   "id": "8dc1e77b",
   "metadata": {},
   "source": [
    "## Модель (pipeline)"
   ]
  },
  {
   "cell_type": "markdown",
   "id": "97c54131",
   "metadata": {},
   "source": [
    "Договорились о том, что первым в пайплайне стоит хелпер, в котором хранятся имена индекса и столбцов. Все имена нужны для работы модели."
   ]
  },
  {
   "cell_type": "code",
   "execution_count": 2,
   "id": "9a8ca521",
   "metadata": {},
   "outputs": [],
   "source": [
    "with open(\"app/app/models/pipeline.dill\", \"rb\") as f:\n",
    "    pipeline = dill.load(f)"
   ]
  },
  {
   "cell_type": "code",
   "execution_count": 3,
   "id": "24b33c1c",
   "metadata": {},
   "outputs": [
    {
     "data": {
      "text/plain": [
       "{'index': 'client_id', 'columns': ['trans_date', 'small_group', 'amount_rur']}"
      ]
     },
     "execution_count": 3,
     "metadata": {},
     "output_type": "execute_result"
    }
   ],
   "source": [
    "pipeline[0].frame_names"
   ]
  },
  {
   "cell_type": "markdown",
   "id": "5b0f0615",
   "metadata": {},
   "source": [
    "## Серверные функции"
   ]
  },
  {
   "cell_type": "code",
   "execution_count": 4,
   "id": "135f6ac5",
   "metadata": {},
   "outputs": [],
   "source": [
    "# pandas dataframe из request_json\n",
    "def get_dataframe(request_json, pipeline):\n",
    "    _names = pipeline[0].frame_names\n",
    "    keys = [_names['index']] + _names['columns']\n",
    "    frame_dict = {col: request_json[col] for col in keys}\n",
    "    return pd.DataFrame(frame_dict).set_index(_names['index'])"
   ]
  },
  {
   "cell_type": "markdown",
   "id": "eca7dc93",
   "metadata": {},
   "source": [
    "## Исходные данные для тестирования"
   ]
  },
  {
   "cell_type": "code",
   "execution_count": 5,
   "id": "67bb2ae3",
   "metadata": {},
   "outputs": [],
   "source": [
    "X_test = pd.read_pickle('data/X_test.pkl.zip')\n",
    "y_test = pd.read_pickle('data/y_test.pkl.zip')"
   ]
  },
  {
   "cell_type": "code",
   "execution_count": 6,
   "id": "a619a364",
   "metadata": {},
   "outputs": [],
   "source": [
    "# Запрос на базе данных первых двух клиентов тестового датасета\n",
    "first2 = X_test.index.unique()[:2]\n",
    "request_json = X_test.loc[first2].reset_index().to_dict('list')"
   ]
  },
  {
   "cell_type": "code",
   "execution_count": 7,
   "id": "b7c71a8c",
   "metadata": {},
   "outputs": [
    {
     "data": {
      "text/html": [
       "<div>\n",
       "<style scoped>\n",
       "    .dataframe tbody tr th:only-of-type {\n",
       "        vertical-align: middle;\n",
       "    }\n",
       "\n",
       "    .dataframe tbody tr th {\n",
       "        vertical-align: top;\n",
       "    }\n",
       "\n",
       "    .dataframe thead th {\n",
       "        text-align: right;\n",
       "    }\n",
       "</style>\n",
       "<table border=\"1\" class=\"dataframe\">\n",
       "  <thead>\n",
       "    <tr style=\"text-align: right;\">\n",
       "      <th></th>\n",
       "      <th>trans_date</th>\n",
       "      <th>small_group</th>\n",
       "      <th>amount_rur</th>\n",
       "    </tr>\n",
       "    <tr>\n",
       "      <th>client_id</th>\n",
       "      <th></th>\n",
       "      <th></th>\n",
       "      <th></th>\n",
       "    </tr>\n",
       "  </thead>\n",
       "  <tbody>\n",
       "    <tr>\n",
       "      <th>1049</th>\n",
       "      <td>1</td>\n",
       "      <td>31</td>\n",
       "      <td>37.781</td>\n",
       "    </tr>\n",
       "    <tr>\n",
       "      <th>1049</th>\n",
       "      <td>1</td>\n",
       "      <td>26</td>\n",
       "      <td>150.947</td>\n",
       "    </tr>\n",
       "    <tr>\n",
       "      <th>1049</th>\n",
       "      <td>1</td>\n",
       "      <td>11</td>\n",
       "      <td>19.234</td>\n",
       "    </tr>\n",
       "    <tr>\n",
       "      <th>1049</th>\n",
       "      <td>2</td>\n",
       "      <td>4</td>\n",
       "      <td>76.020</td>\n",
       "    </tr>\n",
       "    <tr>\n",
       "      <th>1049</th>\n",
       "      <td>2</td>\n",
       "      <td>24</td>\n",
       "      <td>267.391</td>\n",
       "    </tr>\n",
       "    <tr>\n",
       "      <th>...</th>\n",
       "      <td>...</td>\n",
       "      <td>...</td>\n",
       "      <td>...</td>\n",
       "    </tr>\n",
       "    <tr>\n",
       "      <th>11195</th>\n",
       "      <td>728</td>\n",
       "      <td>1</td>\n",
       "      <td>84.095</td>\n",
       "    </tr>\n",
       "    <tr>\n",
       "      <th>11195</th>\n",
       "      <td>728</td>\n",
       "      <td>11</td>\n",
       "      <td>56.741</td>\n",
       "    </tr>\n",
       "    <tr>\n",
       "      <th>11195</th>\n",
       "      <td>729</td>\n",
       "      <td>55</td>\n",
       "      <td>37.737</td>\n",
       "    </tr>\n",
       "    <tr>\n",
       "      <th>11195</th>\n",
       "      <td>729</td>\n",
       "      <td>24</td>\n",
       "      <td>77.500</td>\n",
       "    </tr>\n",
       "    <tr>\n",
       "      <th>11195</th>\n",
       "      <td>729</td>\n",
       "      <td>1</td>\n",
       "      <td>58.956</td>\n",
       "    </tr>\n",
       "  </tbody>\n",
       "</table>\n",
       "<p>1688 rows × 3 columns</p>\n",
       "</div>"
      ],
      "text/plain": [
       "           trans_date  small_group  amount_rur\n",
       "client_id                                     \n",
       "1049                1           31      37.781\n",
       "1049                1           26     150.947\n",
       "1049                1           11      19.234\n",
       "1049                2            4      76.020\n",
       "1049                2           24     267.391\n",
       "...               ...          ...         ...\n",
       "11195             728            1      84.095\n",
       "11195             728           11      56.741\n",
       "11195             729           55      37.737\n",
       "11195             729           24      77.500\n",
       "11195             729            1      58.956\n",
       "\n",
       "[1688 rows x 3 columns]"
      ]
     },
     "execution_count": 7,
     "metadata": {},
     "output_type": "execute_result"
    }
   ],
   "source": [
    "test_df = get_dataframe(request_json, pipeline)\n",
    "test_df"
   ]
  },
  {
   "cell_type": "code",
   "execution_count": 8,
   "id": "89d4c8db",
   "metadata": {},
   "outputs": [
    {
     "data": {
      "text/plain": [
       "'1049, 11195'"
      ]
     },
     "execution_count": 8,
     "metadata": {},
     "output_type": "execute_result"
    }
   ],
   "source": [
    "# client list\n",
    "', '.join(map(str, test_df.index.unique()))"
   ]
  },
  {
   "cell_type": "code",
   "execution_count": 9,
   "id": "a3a48e86",
   "metadata": {},
   "outputs": [],
   "source": [
    "y_pred = pipeline.predict(test_df)\n",
    "response = {\n",
    "    'success': True,\n",
    "    'predictions': y_pred.tolist()\n",
    "}"
   ]
  },
  {
   "cell_type": "code",
   "execution_count": 10,
   "id": "b996f20e",
   "metadata": {},
   "outputs": [
    {
     "data": {
      "text/plain": [
       "'{\"success\": true, \"predictions\": [1, 1]}'"
      ]
     },
     "execution_count": 10,
     "metadata": {},
     "output_type": "execute_result"
    }
   ],
   "source": [
    "json.dumps(response)"
   ]
  },
  {
   "cell_type": "code",
   "execution_count": null,
   "id": "115abc5a",
   "metadata": {},
   "outputs": [],
   "source": []
  }
 ],
 "metadata": {
  "kernelspec": {
   "display_name": "Python 3",
   "language": "python",
   "name": "python3"
  },
  "language_info": {
   "codemirror_mode": {
    "name": "ipython",
    "version": 3
   },
   "file_extension": ".py",
   "mimetype": "text/x-python",
   "name": "python",
   "nbconvert_exporter": "python",
   "pygments_lexer": "ipython3",
   "version": "3.8.11"
  }
 },
 "nbformat": 4,
 "nbformat_minor": 5
}

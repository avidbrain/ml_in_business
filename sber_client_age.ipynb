{
 "cells": [
  {
   "cell_type": "markdown",
   "id": "00869de6",
   "metadata": {},
   "source": [
    "# Машинное обучение в бизнесе. Итоговый проект."
   ]
  },
  {
   "cell_type": "markdown",
   "id": "155d5efd",
   "metadata": {},
   "source": [
    "## Задача"
   ]
  },
  {
   "cell_type": "markdown",
   "id": "721c29f4",
   "metadata": {},
   "source": [
    "В основу работы взято соревнование для школьников, данные для которого подготовил Сбербанк. Цель моделирования - предсказать возраст клиента (точнее, одну из четырех возрастных групп) по его расходам.\n",
    "\n",
    "Страница соревнования: https://ods.ai/competitions/sberbank-sirius-lesson"
   ]
  },
  {
   "cell_type": "code",
   "execution_count": 1,
   "id": "caa6e86a",
   "metadata": {},
   "outputs": [],
   "source": [
    "import dill\n",
    "import numpy as np\n",
    "import pandas as pd\n",
    "# pipeline\n",
    "from sklearn.base import BaseEstimator, TransformerMixin\n",
    "from sklearn.pipeline import Pipeline\n",
    "# Классификатор\n",
    "from lightgbm import LGBMClassifier\n",
    "# Метрики\n",
    "from sklearn.metrics import classification_report"
   ]
  },
  {
   "cell_type": "markdown",
   "id": "835c21d6",
   "metadata": {},
   "source": [
    "## Исходные данные"
   ]
  },
  {
   "cell_type": "markdown",
   "id": "05d7db82",
   "metadata": {},
   "source": [
    "Данные заранее подготовлены и упакованы, иначе они занимают очень много места. Использованы только данные, помеченные как \"train\". Для модели это полный датасет."
   ]
  },
  {
   "cell_type": "code",
   "execution_count": 2,
   "id": "67bb2ae3",
   "metadata": {},
   "outputs": [
    {
     "data": {
      "text/html": [
       "<div>\n",
       "<style scoped>\n",
       "    .dataframe tbody tr th:only-of-type {\n",
       "        vertical-align: middle;\n",
       "    }\n",
       "\n",
       "    .dataframe tbody tr th {\n",
       "        vertical-align: top;\n",
       "    }\n",
       "\n",
       "    .dataframe thead th {\n",
       "        text-align: right;\n",
       "    }\n",
       "</style>\n",
       "<table border=\"1\" class=\"dataframe\">\n",
       "  <thead>\n",
       "    <tr style=\"text-align: right;\">\n",
       "      <th></th>\n",
       "      <th>trans_date</th>\n",
       "      <th>small_group</th>\n",
       "      <th>amount_rur</th>\n",
       "    </tr>\n",
       "    <tr>\n",
       "      <th>client_id</th>\n",
       "      <th></th>\n",
       "      <th></th>\n",
       "      <th></th>\n",
       "    </tr>\n",
       "  </thead>\n",
       "  <tbody>\n",
       "    <tr>\n",
       "      <th>47157</th>\n",
       "      <td>561</td>\n",
       "      <td>36</td>\n",
       "      <td>15.095</td>\n",
       "    </tr>\n",
       "    <tr>\n",
       "      <th>35162</th>\n",
       "      <td>568</td>\n",
       "      <td>9</td>\n",
       "      <td>50.158</td>\n",
       "    </tr>\n",
       "  </tbody>\n",
       "</table>\n",
       "</div>"
      ],
      "text/plain": [
       "           trans_date  small_group  amount_rur\n",
       "client_id                                     \n",
       "47157             561           36      15.095\n",
       "35162             568            9      50.158"
      ]
     },
     "execution_count": 2,
     "metadata": {},
     "output_type": "execute_result"
    }
   ],
   "source": [
    "transactions = pd.read_pickle('data/transactions.pkl.zip')\n",
    "transactions.sample(2)"
   ]
  },
  {
   "cell_type": "code",
   "execution_count": 3,
   "id": "cc52e1d7",
   "metadata": {},
   "outputs": [
    {
     "data": {
      "text/html": [
       "<div>\n",
       "<style scoped>\n",
       "    .dataframe tbody tr th:only-of-type {\n",
       "        vertical-align: middle;\n",
       "    }\n",
       "\n",
       "    .dataframe tbody tr th {\n",
       "        vertical-align: top;\n",
       "    }\n",
       "\n",
       "    .dataframe thead th {\n",
       "        text-align: right;\n",
       "    }\n",
       "</style>\n",
       "<table border=\"1\" class=\"dataframe\">\n",
       "  <thead>\n",
       "    <tr style=\"text-align: right;\">\n",
       "      <th></th>\n",
       "      <th>target</th>\n",
       "    </tr>\n",
       "    <tr>\n",
       "      <th>client_id</th>\n",
       "      <th></th>\n",
       "    </tr>\n",
       "  </thead>\n",
       "  <tbody>\n",
       "    <tr>\n",
       "      <th>47473</th>\n",
       "      <td>1</td>\n",
       "    </tr>\n",
       "    <tr>\n",
       "      <th>42806</th>\n",
       "      <td>1</td>\n",
       "    </tr>\n",
       "  </tbody>\n",
       "</table>\n",
       "</div>"
      ],
      "text/plain": [
       "           target\n",
       "client_id        \n",
       "47473           1\n",
       "42806           1"
      ]
     },
     "execution_count": 3,
     "metadata": {},
     "output_type": "execute_result"
    }
   ],
   "source": [
    "# Указания на target сохранены отдельно\n",
    "target = (\n",
    "    pd.read_csv('data/train_target.csv', index_col='client_id')\n",
    "    .rename(columns={'bins': 'target'})\n",
    ")\n",
    "\n",
    "target.sample(2)"
   ]
  },
  {
   "cell_type": "markdown",
   "id": "d5049a41",
   "metadata": {},
   "source": [
    "## Train/Test Split"
   ]
  },
  {
   "cell_type": "markdown",
   "id": "0d919acc",
   "metadata": {},
   "source": [
    "В силу специфики датасета делить будем `client_id`, а затем собирать датасеты."
   ]
  },
  {
   "cell_type": "code",
   "execution_count": 4,
   "id": "63357c77",
   "metadata": {},
   "outputs": [],
   "source": [
    "# custom train-test split\n",
    "def tts(features, target, train_size=0.75, random_state=None):\n",
    "    rng = np.random.default_rng(random_state)\n",
    "    all_idx = features.index.unique()\n",
    "    if train_size < 1:\n",
    "        train_size = int(all_idx.size * train_size)\n",
    "    test_size = all_idx.size - train_size\n",
    "    train_idx = rng.choice(all_idx, train_size, replace=False, shuffle=False)\n",
    "    test_idx = np.setdiff1d(all_idx, train_idx)\n",
    "    assert (set(all_idx) == set(train_idx) | set(test_idx))\n",
    "    X_train = features[features.index.isin(train_idx)]\n",
    "    X_test = features[features.index.isin(test_idx)]\n",
    "    y_train = target.loc[X_train.index.unique()].target\n",
    "    y_test = target.loc[X_test.index.unique()].target\n",
    "    assert np.all(X_train.index.unique() == y_train.index)\n",
    "    assert np.all(X_test.index.unique() == y_test.index)\n",
    "    return X_train, X_test, y_train, y_test"
   ]
  },
  {
   "cell_type": "code",
   "execution_count": 5,
   "id": "bdcc7316",
   "metadata": {},
   "outputs": [
    {
     "name": "stdout",
     "output_type": "stream",
     "text": [
      "CPU times: user 7.16 s, sys: 365 ms, total: 7.53 s\n",
      "Wall time: 7.53 s\n"
     ]
    }
   ],
   "source": [
    "%%time\n",
    "X_train, X_test, y_train, y_test = tts(transactions, target, random_state=2021)\n",
    "X_test.to_pickle('data/X_test.pkl.zip')\n",
    "y_test.to_pickle('data/y_test.pkl.zip')"
   ]
  },
  {
   "cell_type": "markdown",
   "id": "570e33c6",
   "metadata": {},
   "source": [
    "## Preprocessing"
   ]
  },
  {
   "cell_type": "code",
   "execution_count": 6,
   "id": "1931c778",
   "metadata": {},
   "outputs": [],
   "source": [
    "# Небольшой помощник, запоминает имена индекса и столбцов\n",
    "# Пригодится для работы через API\n",
    "class StoreNamesPreprocessor(BaseEstimator, TransformerMixin):\n",
    "    def fit(self, X, y=None):\n",
    "        self.frame_names = {\n",
    "            'index': X.index.name,\n",
    "            'columns': X.columns.values.tolist()\n",
    "        }\n",
    "        return self\n",
    "    \n",
    "    def transform(self, X, y=None):\n",
    "        return X"
   ]
  },
  {
   "cell_type": "markdown",
   "id": "aa95bdbd",
   "metadata": {},
   "source": [
    "Используем информацию о категориях транзакций (\"группах\"). Для этого необходим файл small_group_description.csv."
   ]
  },
  {
   "cell_type": "code",
   "execution_count": 7,
   "id": "aa685773",
   "metadata": {},
   "outputs": [
    {
     "data": {
      "text/html": [
       "<div>\n",
       "<style scoped>\n",
       "    .dataframe tbody tr th:only-of-type {\n",
       "        vertical-align: middle;\n",
       "    }\n",
       "\n",
       "    .dataframe tbody tr th {\n",
       "        vertical-align: top;\n",
       "    }\n",
       "\n",
       "    .dataframe thead th {\n",
       "        text-align: right;\n",
       "    }\n",
       "</style>\n",
       "<table border=\"1\" class=\"dataframe\">\n",
       "  <thead>\n",
       "    <tr style=\"text-align: right;\">\n",
       "      <th></th>\n",
       "      <th>small_group_desc</th>\n",
       "    </tr>\n",
       "    <tr>\n",
       "      <th>small_group</th>\n",
       "      <th></th>\n",
       "    </tr>\n",
       "  </thead>\n",
       "  <tbody>\n",
       "    <tr>\n",
       "      <th>12</th>\n",
       "      <td>Такси и каршеринги</td>\n",
       "    </tr>\n",
       "    <tr>\n",
       "      <th>118</th>\n",
       "      <td>Услуги ремонта</td>\n",
       "    </tr>\n",
       "  </tbody>\n",
       "</table>\n",
       "</div>"
      ],
      "text/plain": [
       "               small_group_desc\n",
       "small_group                    \n",
       "12           Такси и каршеринги\n",
       "118              Услуги ремонта"
      ]
     },
     "execution_count": 7,
     "metadata": {},
     "output_type": "execute_result"
    }
   ],
   "source": [
    "small_group_description = (\n",
    "    pd.read_csv('data/small_group_description.csv')\n",
    "    .rename(columns={'small_group': 'small_group_desc',\n",
    "                     'small_group_code': 'small_group'})\n",
    "    .set_index('small_group')\n",
    ")\n",
    "\n",
    "small_group_description.sample(2)"
   ]
  },
  {
   "cell_type": "code",
   "execution_count": 8,
   "id": "6cb38b2e",
   "metadata": {},
   "outputs": [],
   "source": [
    "# Упрощение кода: инкапсулируем данные о группах в базовый класс для наших трансформеров\n",
    "class BaseTransformer(BaseEstimator, TransformerMixin):\n",
    "    _all_small_groups = small_group_description.index.unique().values\n",
    "    \n",
    "    def fit(self, X, y=None):\n",
    "        return self   "
   ]
  },
  {
   "cell_type": "markdown",
   "id": "985c9cff",
   "metadata": {},
   "source": [
    "## Feature Engineering"
   ]
  },
  {
   "cell_type": "code",
   "execution_count": 9,
   "id": "1fce4a6f",
   "metadata": {},
   "outputs": [],
   "source": [
    "# Общая статистика по транзакциям клиентов\n",
    "class StatsTransformer(BaseTransformer):\n",
    "    def __init__(self, values='amount_rur',\n",
    "                 aggfunc=('sum', 'mean', 'std', 'min', 'max')):\n",
    "        self.values = values\n",
    "        self.aggfunc = aggfunc\n",
    "        \n",
    "    def transform(self, X, y=None):\n",
    "        return (\n",
    "            X.filter([self.values])\n",
    "            .groupby(level=0)[self.values]\n",
    "            .agg(self.aggfunc)\n",
    "            .loc[X.index.unique()]\n",
    "        )"
   ]
  },
  {
   "cell_type": "code",
   "execution_count": 10,
   "id": "4d6f7d0a",
   "metadata": {},
   "outputs": [],
   "source": [
    "# Количество (или другая функция агрегации) транзакций по каждой из категорий\n",
    "class GroupAggTransformer(BaseTransformer):\n",
    "    def __init__(self, values, aggfunc):\n",
    "        self.values = values\n",
    "        self.aggfunc = aggfunc\n",
    "    \n",
    "    def fit(self, X, y=None):\n",
    "        self._all_small_groups = np.sort(\n",
    "            np.union1d(X['small_group'].unique(),\n",
    "                       self._all_small_groups)\n",
    "        )\n",
    "        return self\n",
    "    \n",
    "    def transform(self, X, y=None):\n",
    "        pivot_df = pd.pivot_table(X, index=X.index.name,\n",
    "                                  values=self.values, columns='small_group',\n",
    "                                  aggfunc=self.aggfunc,\n",
    "                                  dropna=False, fill_value=0)\n",
    "        for column in self._all_small_groups:\n",
    "            if column not in pivot_df.columns:\n",
    "                pivot_df[column] = np.zeros(pivot_df.shape[0], dtype=pivot_df.iloc[0,0].dtype)\n",
    "        \n",
    "        result = pivot_df.loc[X.index.unique(), self._all_small_groups]\n",
    "        result.columns = [f\"group_{col:03d}_{self.values}_{self.aggfunc}\" for col in result.columns]\n",
    "        \n",
    "        return result       "
   ]
  },
  {
   "cell_type": "code",
   "execution_count": 11,
   "id": "3cc5e9c9",
   "metadata": {},
   "outputs": [],
   "source": [
    "# Применяет векторную функцию ко всем значениям\n",
    "class ApplyFuncTransformer(BaseTransformer):\n",
    "    def __init__(self, func=None):\n",
    "        self.func = func\n",
    "\n",
    "    def transform(self, X, y=None):\n",
    "        return X.apply(self.func) if self.func is not None else X"
   ]
  },
  {
   "cell_type": "markdown",
   "id": "d52f993f",
   "metadata": {},
   "source": [
    "## Pipeline"
   ]
  },
  {
   "cell_type": "markdown",
   "id": "08dfcfce",
   "metadata": {},
   "source": [
    "Итак, в модель нужно взять следующие фичи:\n",
    "- общую статистику по транзакциям\n",
    "- количество дней с транзакциями по категориям\n",
    "- сумму транзакций (логарифм) по категориям\n",
    "\n",
    "После этого необходимо обучить классификатор."
   ]
  },
  {
   "cell_type": "code",
   "execution_count": 12,
   "id": "ce5e57bf",
   "metadata": {},
   "outputs": [],
   "source": [
    "# Упрощенный аналог FeatureUnion для pandas \n",
    "class FrameUnion(BaseEstimator, TransformerMixin):\n",
    "    def __init__(self, transformer_list):\n",
    "        self.transformer_list = transformer_list\n",
    "        \n",
    "    def fit(self, X, y=None):\n",
    "        self._translist = [tr.fit(X=X) for tr in self.transformer_list]\n",
    "        return self\n",
    "\n",
    "    def transform(self, X, y=None):\n",
    "        transformed = [tr.transform(X=X) for tr in self._translist]\n",
    "        result = transformed[0]\n",
    "        if len(transformed):\n",
    "            for tr in transformed[1:]:\n",
    "                result = result.join(tr, how='outer')\n",
    "        return result"
   ]
  },
  {
   "cell_type": "code",
   "execution_count": 13,
   "id": "ee99057d",
   "metadata": {},
   "outputs": [],
   "source": [
    "all_features = FrameUnion([\n",
    "    StatsTransformer(),\n",
    "    GroupAggTransformer(values='trans_date', aggfunc='nunique'),\n",
    "    Pipeline([\n",
    "        ('group_sum', GroupAggTransformer(values='amount_rur', aggfunc='sum')),\n",
    "        ('log1p', ApplyFuncTransformer(np.log1p))\n",
    "    ])\n",
    "])\n",
    "\n",
    "pipe = Pipeline([\n",
    "    ('store_names', StoreNamesPreprocessor()),\n",
    "    ('all_features', all_features),\n",
    "    ('cls', LGBMClassifier(min_child_samples=200))\n",
    "])"
   ]
  },
  {
   "cell_type": "code",
   "execution_count": 14,
   "id": "eb88daef",
   "metadata": {},
   "outputs": [
    {
     "name": "stdout",
     "output_type": "stream",
     "text": [
      "CPU times: user 33.2 s, sys: 2.15 s, total: 35.3 s\n",
      "Wall time: 21.2 s\n"
     ]
    },
    {
     "data": {
      "text/plain": [
       "Pipeline(steps=[('store_names', StoreNamesPreprocessor()),\n",
       "                ('all_features',\n",
       "                 FrameUnion(transformer_list=[StatsTransformer(),\n",
       "                                              GroupAggTransformer(aggfunc='nunique',\n",
       "                                                                  values='trans_date'),\n",
       "                                              Pipeline(steps=[('group_sum',\n",
       "                                                               GroupAggTransformer(aggfunc='sum',\n",
       "                                                                                   values='amount_rur')),\n",
       "                                                              ('log1p',\n",
       "                                                               ApplyFuncTransformer(func=<ufunc 'log1p'>))])])),\n",
       "                ('cls', LGBMClassifier(min_child_samples=200))])"
      ]
     },
     "execution_count": 14,
     "metadata": {},
     "output_type": "execute_result"
    }
   ],
   "source": [
    "%%time\n",
    "pipe.fit(X_train, y_train)"
   ]
  },
  {
   "cell_type": "code",
   "execution_count": 15,
   "id": "24fb6d6a",
   "metadata": {},
   "outputs": [],
   "source": [
    "with open(\"app/app/models/pipeline.dill\", \"wb\") as f:\n",
    "    dill.dump(pipe, f)"
   ]
  },
  {
   "cell_type": "code",
   "execution_count": 16,
   "id": "236d222c",
   "metadata": {},
   "outputs": [],
   "source": [
    "with open(\"app/app/models/pipeline.dill\", \"rb\") as f:\n",
    "    pipe = dill.load(f)"
   ]
  },
  {
   "cell_type": "code",
   "execution_count": 17,
   "id": "262b4396",
   "metadata": {},
   "outputs": [
    {
     "name": "stdout",
     "output_type": "stream",
     "text": [
      "              precision    recall  f1-score   support\n",
      "\n",
      "           0       0.52      0.49      0.50      1897\n",
      "           1       0.69      0.72      0.70      1800\n",
      "           2       0.76      0.80      0.78      1912\n",
      "           3       0.51      0.50      0.51      1891\n",
      "\n",
      "    accuracy                           0.63      7500\n",
      "   macro avg       0.62      0.63      0.62      7500\n",
      "weighted avg       0.62      0.63      0.62      7500\n",
      "\n",
      "CPU times: user 3.56 s, sys: 193 ms, total: 3.75 s\n",
      "Wall time: 3.63 s\n"
     ]
    }
   ],
   "source": [
    "%%time\n",
    "y_pred = pipe.predict(X_test)\n",
    "print(classification_report(y_test, y_pred))"
   ]
  },
  {
   "cell_type": "code",
   "execution_count": null,
   "id": "94612103",
   "metadata": {},
   "outputs": [],
   "source": []
  }
 ],
 "metadata": {
  "kernelspec": {
   "display_name": "Python 3",
   "language": "python",
   "name": "python3"
  },
  "language_info": {
   "codemirror_mode": {
    "name": "ipython",
    "version": 3
   },
   "file_extension": ".py",
   "mimetype": "text/x-python",
   "name": "python",
   "nbconvert_exporter": "python",
   "pygments_lexer": "ipython3",
   "version": "3.8.11"
  }
 },
 "nbformat": 4,
 "nbformat_minor": 5
}
